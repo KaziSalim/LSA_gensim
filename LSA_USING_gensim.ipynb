{
 "cells": [
  {
   "cell_type": "markdown",
   "id": "f3f22623",
   "metadata": {},
   "source": [
    "# LSA"
   ]
  },
  {
   "cell_type": "code",
   "execution_count": 1,
   "id": "53955838",
   "metadata": {},
   "outputs": [],
   "source": [
    "from sklearn.feature_extraction.text import TfidfVectorizer\n",
    "from sklearn.decomposition import TruncatedSVD\n",
    "import pandas as pd\n",
    "from gensim.models import LsiModel\n",
    "from gensim.corpora import Dictionary\n",
    "from gensim.models import CoherenceModel\n",
    "import gensim\n",
    "from pprint import pprint"
   ]
  },
  {
   "cell_type": "code",
   "execution_count": 2,
   "id": "ff347b74",
   "metadata": {},
   "outputs": [],
   "source": [
    "documents = [\n",
    "    \"I love natural language processing.\",\n",
    "    \"Understanding language is fascinating.\",\n",
    "    \"Processing language data is essential.\"\n",
    "]"
   ]
  },
  {
   "cell_type": "code",
   "execution_count": 3,
   "id": "730e8ea4",
   "metadata": {},
   "outputs": [],
   "source": [
    "# Remove empty documents\n",
    "documents = [doc for doc in documents if doc.strip()]"
   ]
  },
  {
   "cell_type": "code",
   "execution_count": 4,
   "id": "829a67cf",
   "metadata": {},
   "outputs": [],
   "source": [
    "# Create a document-term matrix using TF-IDF representation\n",
    "vectorizer = TfidfVectorizer(stop_words='english')\n",
    "X = vectorizer.fit_transform(documents)"
   ]
  },
  {
   "cell_type": "code",
   "execution_count": 5,
   "id": "e4615ac5",
   "metadata": {},
   "outputs": [],
   "source": [
    "# Convert the sparse TF-IDF matrix to a Gensim corpus\n",
    "corpus = gensim.matutils.Sparse2Corpus(X, documents_columns=False)"
   ]
  },
  {
   "cell_type": "code",
   "execution_count": 6,
   "id": "40c0b042",
   "metadata": {},
   "outputs": [],
   "source": [
    "# Create a Gensim Dictionary\n",
    "dictionary = Dictionary.from_corpus(corpus, id2word=dict((id, word) for word, id in vectorizer.vocabulary_.items()))"
   ]
  },
  {
   "cell_type": "code",
   "execution_count": 7,
   "id": "75cda060",
   "metadata": {},
   "outputs": [],
   "source": [
    "# Apply Latent Semantic Analysis (LSA) using Gensim\n",
    "num_topics = 2\n",
    "lsa_model = LsiModel(corpus, id2word=dictionary, num_topics=num_topics)"
   ]
  },
  {
   "cell_type": "code",
   "execution_count": 8,
   "id": "7ad8b179",
   "metadata": {},
   "outputs": [
    {
     "name": "stdout",
     "output_type": "stream",
     "text": [
      "[(0,\n",
      "  '0.511*\"language\" + 0.481*\"processing\" + 0.316*\"natural\" + 0.316*\"love\" + '\n",
      "  '0.316*\"essential\"'),\n",
      " (1,\n",
      "  '0.619*\"fascinating\" + 0.619*\"understanding\" + -0.278*\"processing\" + '\n",
      "  '-0.183*\"natural\" + -0.183*\"love\"')]\n"
     ]
    }
   ],
   "source": [
    "# Print the topics and associated words\n",
    "pprint(lsa_model.print_topics(num_words=5))"
   ]
  },
  {
   "cell_type": "code",
   "execution_count": 9,
   "id": "aa4753b6",
   "metadata": {},
   "outputs": [
    {
     "name": "stdout",
     "output_type": "stream",
     "text": [
      "Document 1 - Topic Assignments: [(0, 0.7597202301121123), (1, -0.28496475286176776)]\n",
      "Document 2 - Topic Assignments: [(0, 0.49995544343291565), (1, 0.8660511270022092)]\n",
      "Document 3 - Topic Assignments: [(0, 0.759720230112112), (1, -0.2849647528617667)]\n"
     ]
    }
   ],
   "source": [
    "# Display document-topic assignments\n",
    "for i, doc in enumerate(corpus):\n",
    "    topics = lsa_model[doc]\n",
    "    print(f\"Document {i + 1} - Topic Assignments: {topics}\")"
   ]
  },
  {
   "cell_type": "code",
   "execution_count": 10,
   "id": "dda722e4",
   "metadata": {},
   "outputs": [
    {
     "name": "stdout",
     "output_type": "stream",
     "text": [
      "Coherence Score: nan\n"
     ]
    },
    {
     "name": "stderr",
     "output_type": "stream",
     "text": [
      "C:\\ProgramData\\anaconda3\\Lib\\site-packages\\gensim\\topic_coherence\\direct_confirmation_measure.py:204: RuntimeWarning: divide by zero encountered in scalar divide\n",
      "  m_lr_i = np.log(numerator / denominator)\n",
      "C:\\ProgramData\\anaconda3\\Lib\\site-packages\\gensim\\topic_coherence\\indirect_confirmation_measure.py:323: RuntimeWarning: invalid value encountered in scalar divide\n",
      "  return cv1.T.dot(cv2)[0, 0] / (_magnitude(cv1) * _magnitude(cv2))\n"
     ]
    }
   ],
   "source": [
    "# Calculate coherence score\n",
    "coherence_model = CoherenceModel(model=lsa_model, texts=[doc.split() for doc in documents], dictionary=dictionary, coherence='c_v')\n",
    "coherence_score = coherence_model.get_coherence()\n",
    "\n",
    "print(f\"Coherence Score: {coherence_score}\")"
   ]
  }
 ],
 "metadata": {
  "kernelspec": {
   "display_name": "Python 3 (ipykernel)",
   "language": "python",
   "name": "python3"
  },
  "language_info": {
   "codemirror_mode": {
    "name": "ipython",
    "version": 3
   },
   "file_extension": ".py",
   "mimetype": "text/x-python",
   "name": "python",
   "nbconvert_exporter": "python",
   "pygments_lexer": "ipython3",
   "version": "3.11.4"
  }
 },
 "nbformat": 4,
 "nbformat_minor": 5
}
